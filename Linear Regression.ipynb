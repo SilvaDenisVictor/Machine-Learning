{
 "cells": [
  {
   "cell_type": "code",
   "execution_count": 474,
   "id": "761b31d5",
   "metadata": {},
   "outputs": [],
   "source": [
    "import matplotlib.pyplot as plt\n",
    "import numpy as np\n",
    "import copy"
   ]
  },
  {
   "cell_type": "code",
   "execution_count": 475,
   "id": "e6804149",
   "metadata": {},
   "outputs": [],
   "source": [
    "class linear_modeal():\n",
    "    def __init__(self, w, obj_dados):\n",
    "        self.w = w\n",
    "        self.obj_dados = obj_dados\n",
    "    \n",
    "    def at(self, x, normalize=False):\n",
    "        if normalize:\n",
    "            normalized_x = self.obj_dados.normalize_x_at(x)\n",
    "            \n",
    "            y_normalized = np.dot(x, w.T)\n",
    "            \n",
    "            return self.obj_dados.desnormalize_y_at(y_normalized)\n",
    "            \n",
    "        return np.dot(x, w.T)\n",
    "    "
   ]
  },
  {
   "cell_type": "code",
   "execution_count": 476,
   "id": "1ff5c31e",
   "metadata": {},
   "outputs": [],
   "source": [
    "class return_training():\n",
    "    def __init__(self, w, mse):\n",
    "        self.w = w\n",
    "        self.mse = mse\n",
    "        "
   ]
  },
  {
   "cell_type": "code",
   "execution_count": 515,
   "id": "648852b5",
   "metadata": {},
   "outputs": [],
   "source": [
    "class obj_dados():\n",
    "    def __init__(self, x, y):\n",
    "        self.x_back_up = copy.deepcopy(x)\n",
    "        self.y_back_up = copy.deepcopy(y)\n",
    "        self.x = copy.deepcopy(x)\n",
    "        self.y = copy.deepcopy(y)\n",
    "        self.var_x = np.array([x.T[column].var() for column in range(x.shape[1])])\n",
    "        self.mean_x = np.array([x.T[column].mean() for column in range(x.shape[1])])\n",
    "        self.var_y = y.var()\n",
    "        self.mean_y = y.mean()\n",
    "    \n",
    "    def normalize(self):\n",
    "        for column in range(x.shape[1]):\n",
    "            if self.var_x[column] == 0:\n",
    "                self.x.T[column] = (self.x.T[column] - self.mean_x[column])\n",
    "            else:\n",
    "                self.x.T[column] = (self.x.T[column] - self.mean_x[column])/self.var_x[column]\n",
    "            \n",
    "        if self.var_y == 0:\n",
    "            self.y = (self.y - self.mean_y)\n",
    "        else:\n",
    "            self.y = (self.y - self.mean_y)/self.var_y\n",
    "    \n",
    "    def normalize_x_at(self, x):\n",
    "        return_x = (np.array(x)-self.mean_x)\n",
    "        print(x)\n",
    "        print(self.mean_x)\n",
    "        print(self.var_x)\n",
    "        \n",
    "        for index, var in enumerate(self.var_x):\n",
    "            if var != 0:\n",
    "                return_x[index] /= var \n",
    "                \n",
    "        return return_x\n",
    "    \n",
    "    def desnormalize_x_at(self, x):\n",
    "        return_x = (np.array(x)-self.mean_x)\n",
    "        \n",
    "        for index, var in enumerate(self.var_x):\n",
    "            if var != 0:\n",
    "                return_x[index] *= var \n",
    "                \n",
    "        return return_x\n",
    "    \n",
    "    def normalize_y_at(self, y):  \n",
    "        return_y = np.array(y) - self.mean_y\n",
    "        \n",
    "        if self.var_y != 0:\n",
    "            return_y /= self.var_y\n",
    "        \n",
    "        return return_y\n",
    "    \n",
    "    def desnormalize_y_at(self, y):\n",
    "        return_y = np.array(y) + self.mean_y\n",
    "        \n",
    "        if self.var_y != 0:\n",
    "            return_y *= self.var_y\n",
    "        \n",
    "        return return_y\n",
    "    "
   ]
  },
  {
   "cell_type": "code",
   "execution_count": 516,
   "id": "73f96da3",
   "metadata": {},
   "outputs": [],
   "source": [
    "x = np.array([\n",
    "    [1, 1.087, 18.141],\n",
    "    [1, 1.613, 42.404],\n",
    "    [1, 0.953, 16.100],\n",
    "    [1, 1.003, 13.605],\n",
    "    [1, 1.156, 23.583],\n",
    "    [1, 0.978, 7.710],\n",
    "    [1, 1.092, 17.460],\n",
    "    [1, 0.572, 3.855],\n",
    "    [1, 0.940, 14.966],\n",
    "    [1, 0.597, 4.308],\n",
    "    [1, 0.838, 9.524],\n",
    "    [1, 1.473, 35.828]\n",
    "])\n",
    "\n",
    "x = np.delete(x, 2, axis=1)\n",
    "\n",
    "y = np.array([37, 50, 34, 36, 43, 28, 37, 20, 34, 30, 38, 47])"
   ]
  },
  {
   "cell_type": "code",
   "execution_count": 519,
   "id": "a1084f0b",
   "metadata": {},
   "outputs": [
    {
     "name": "stdout",
     "output_type": "stream",
     "text": [
      "[1, 1.087]\n",
      "[0. 0.]\n",
      "[0.         0.08420047]\n",
      "[1, 1.087]\n",
      "[0. 0.]\n",
      "[0.         0.08420047]\n"
     ]
    },
    {
     "data": {
      "text/plain": [
       "array([1.   , 1.087])"
      ]
     },
     "execution_count": 519,
     "metadata": {},
     "output_type": "execute_result"
    }
   ],
   "source": [
    "dados = obj_dados(x, y)\n",
    "dados.normalize()\n",
    "\n",
    "dados.normalize_x_at([1, 1.087])\n",
    "\n",
    "x = dados.x\n",
    "y = dados.y\n",
    "\n",
    "dados.desnormalize_x_at(dados.normalize_x_at([1, 1.087]))"
   ]
  },
  {
   "cell_type": "code",
   "execution_count": 520,
   "id": "723b38ac",
   "metadata": {},
   "outputs": [],
   "source": [
    "def  gradient_descent(x, y, alpha=0.0045, epoch=150):\n",
    "    N = x.shape[0]\n",
    "    D = x.shape[1]\n",
    "    \n",
    "    new_w = np.array([0]*D)\n",
    "    w = np.array([0]*D) \n",
    "    mse_list = []\n",
    "    for count1 in range(epoch):\n",
    "        calcuted_y = np.dot(x, w.T)\n",
    "        error = np.array(y - calcuted_y)\n",
    "\n",
    "        w = w + (alpha/N)*(np.dot(error, x))\n",
    "        \n",
    "        mse_list.append((error**2).sum())\n",
    "        \n",
    "        \n",
    "    return return_training(w, mse_list)\n",
    "    "
   ]
  },
  {
   "cell_type": "code",
   "execution_count": 521,
   "id": "549442eb",
   "metadata": {},
   "outputs": [],
   "source": [
    "def gradient_descent_stocastic(x, y, alpha=0.5, epoch=2000):\n",
    "    N = x.shape[0]\n",
    "    D = x.shape[1]\n",
    "    \n",
    "    new_w = np.array([0]*D)\n",
    "    w = np.array([0]*D) \n",
    "    mse_list = []\n",
    "    count = 0\n",
    "    for count1 in range(epoch):\n",
    "        calcuted_y = np.dot(x, w.T)\n",
    "        error = np.array(y - calcuted_y)\n",
    "\n",
    "        w = w + (alpha/N)*(np.dot(error[count], x[count]))\n",
    "        \n",
    "        mse_list.append((error**2).sum())\n",
    "        \n",
    "        count += 1\n",
    "        \n",
    "        if count >= N:\n",
    "            count = 0\n",
    "        \n",
    "    return return_training(w, mse_list)"
   ]
  },
  {
   "cell_type": "code",
   "execution_count": 522,
   "id": "35bfc9ac",
   "metadata": {},
   "outputs": [],
   "source": [
    "def metodo_analitico(x, y):\n",
    "    w = np.dot(np.dot(np.linalg.inv(np.dot(x.T, x)), x.T), y)\n",
    "    error = [y[count] - np.dot(x[count], w.T) for count in range(x.shape[0])]\n",
    "    error = np.array(error)\n",
    "    error = [(error**2).sum(), (error**2).sum()]\n",
    "    return return_training(w, error)"
   ]
  },
  {
   "cell_type": "code",
   "execution_count": 523,
   "id": "63092ead",
   "metadata": {},
   "outputs": [],
   "source": [
    "obj = gradient_descent(x, y, alpha=0.045, epoch=400)\n",
    "w = obj.w"
   ]
  },
  {
   "cell_type": "code",
   "execution_count": 524,
   "id": "b8bcb681",
   "metadata": {},
   "outputs": [
    {
     "name": "stdout",
     "output_type": "stream",
     "text": [
      "[1, 1.087]\n",
      "[0. 0.]\n",
      "[0.         0.08420047]\n"
     ]
    },
    {
     "data": {
      "text/plain": [
       "2.204586972222249"
      ]
     },
     "execution_count": 524,
     "metadata": {},
     "output_type": "execute_result"
    }
   ],
   "source": [
    "rg = linear_modeal(w, dados)\n",
    "rg.at([1, 1.087], normalize = True)\n"
   ]
  },
  {
   "cell_type": "code",
   "execution_count": 471,
   "id": "7ec5454f",
   "metadata": {},
   "outputs": [
    {
     "data": {
      "text/plain": [
       "[<matplotlib.lines.Line2D at 0x24be8a8f2d0>]"
      ]
     },
     "execution_count": 471,
     "metadata": {},
     "output_type": "execute_result"
    },
    {
     "data": {
      "image/png": "[encoded data removed]",
      "text/plain": [
       "<Figure size 640x480 with 1 Axes>"
      ]
     },
     "metadata": {},
     "output_type": "display_data"
    }
   ],
   "source": [
    "y_values = [rg.at(element) for element in x]\n",
    "\n",
    "plt.scatter(x.T[1], y, color='blue', label='Pontos')\n",
    "\n",
    "plt.plot(x.T[1], y_values, color='red', label='Reta AB')"
   ]
  },
  {
   "cell_type": "code",
   "execution_count": 472,
   "id": "b5e385e7",
   "metadata": {},
   "outputs": [
    {
     "data": {
      "text/plain": [
       "[<matplotlib.lines.Line2D at 0x24be8cf3010>]"
      ]
     },
     "execution_count": 472,
     "metadata": {},
     "output_type": "execute_result"
    },
    {
     "data": {
      "image/png": "[encoded data removed]",
      "text/plain": [
       "<Figure size 640x480 with 1 Axes>"
      ]
     },
     "metadata": {},
     "output_type": "display_data"
    }
   ],
   "source": [
    "plt.plot(obj.mse)"
   ]
  },
  {
   "cell_type": "code",
   "execution_count": null,
   "id": "73128784",
   "metadata": {},
   "outputs": [],
   "source": []
  }
 ],
 "metadata": {
  "kernelspec": {
   "display_name": "Python 3 (ipykernel)",
   "language": "python",
   "name": "python3"
  },
  "language_info": {
   "codemirror_mode": {
    "name": "ipython",
    "version": 3
   },
   "file_extension": ".py",
   "mimetype": "text/x-python",
   "name": "python",
   "nbconvert_exporter": "python",
   "pygments_lexer": "ipython3",
   "version": "3.11.5"
  }
 },
 "nbformat": 4,
 "nbformat_minor": 5
}
