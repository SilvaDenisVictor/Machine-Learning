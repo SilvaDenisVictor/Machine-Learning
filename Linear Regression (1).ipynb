{
  "metadata": {
    "kernelspec": {
      "name": "python",
      "display_name": "Python (Pyodide)",
      "language": "python"
    },
    "language_info": {
      "codemirror_mode": {
        "name": "python",
        "version": 3
      },
      "file_extension": ".py",
      "mimetype": "text/x-python",
      "name": "python",
      "nbconvert_exporter": "python",
      "pygments_lexer": "ipython3",
      "version": "3.8"
    }
  },
  "nbformat_minor": 5,
  "nbformat": 4,
  "cells": [
    {
      "id": "761b31d5",
      "cell_type": "code",
      "source": "import matplotlib.pyplot as plt\nimport numpy as np\nimport copy",
      "metadata": {
        "trusted": true
      },
      "outputs": [],
      "execution_count": 47
    },
    {
      "id": "e6804149",
      "cell_type": "code",
      "source": "class linear_modeal():\n    def __init__(self, w, obj_dados):\n        self.w = w\n        self.obj_dados = obj_dados\n    \n    def at(self, x, normalize=False):\n        if normalize:\n            normalized_x = self.obj_dados.normalize_x_at(x)\n            \n            y_normalized = np.dot(x, w.T)\n            \n            return self.obj_dados.desnormalize_y_at(y_normalized)\n            \n        return np.dot(x, w.T)\n    ",
      "metadata": {
        "trusted": true
      },
      "outputs": [],
      "execution_count": 48
    },
    {
      "id": "1ff5c31e",
      "cell_type": "code",
      "source": "class return_training():\n    def __init__(self, w, mse):\n        self.w = w\n        self.mse = mse\n        ",
      "metadata": {
        "trusted": true
      },
      "outputs": [],
      "execution_count": 49
    },
    {
      "id": "648852b5",
      "cell_type": "code",
      "source": "class obj_dados():\n    def __init__(self, x, y):\n        self.x_back_up = copy.deepcopy(x)\n        self.y_back_up = copy.deepcopy(y)\n        self.x = copy.deepcopy(x)\n        self.y = copy.deepcopy(y)\n        self.var_x = np.array([x.T[column].std() for column in range(x.shape[1])])\n        self.mean_x = np.array([x.T[column].mean() for column in range(x.shape[1])])\n        self.var_y = y.std()\n        self.mean_y = y.mean()\n    \n    def normalize(self):\n        for column in range(x.shape[1]):\n            if self.var_x[column] == 0:\n                self.x.T[column] = (self.x.T[column] - self.mean_x[column])\n            else:\n                self.x.T[column] = (self.x.T[column] - self.mean_x[column])/self.var_x[column]\n            \n        if self.var_y == 0:\n            self.y = (self.y - self.mean_y)\n        else:\n            self.y = (self.y - self.mean_y)/self.var_y\n    \n    def normalize_x_at(self, x):\n        return_x = (np.array(x)-self.mean_x)\n        #print(x)\n        #print(self.mean_x)\n        #print(self.var_x)\n        \n        for index, var in enumerate(self.var_x):\n            if var != 0:\n                return_x[index] /= var \n                \n        return return_x\n    \n    def desnormalize_x_at(self, x):\n        return_x = np.array(x)\n        \n        for index, var in enumerate(self.var_x):\n            if var != 0:\n                return_x[index] *= var \n                \n        return_x += self.mean_x\n                \n        return return_x\n    \n    def normalize_y_at(self, y):  \n        return_y = np.array(y) - self.mean_y\n        \n        if self.var_y != 0:\n            return_y /= self.var_y\n        \n        return return_y\n    \n    def desnormalize_y_at(self, y):\n        return_y = np.array(y) \n        \n        if self.var_y != 0:\n            return_y *= self.var_y\n\n        return_y +=  self.mean_y\n        \n        return return_y\n    ",
      "metadata": {
        "trusted": true
      },
      "outputs": [],
      "execution_count": 118
    },
    {
      "id": "73f96da3",
      "cell_type": "code",
      "source": "x = np.array([\n    [1, 1.087, 18.141],\n    [1, 1.613, 42.404],\n    [1, 0.953, 16.100],\n    [1, 1.003, 13.605],\n    [1, 1.156, 23.583],\n    [1, 0.978, 7.710],\n    [1, 1.092, 17.460],\n    [1, 0.572, 3.855],\n    [1, 0.940, 14.966],\n    [1, 0.597, 4.308],\n    [1, 0.838, 9.524],\n    [1, 1.473, 35.828]\n])\n\nx = np.delete(x, 2, axis=1)\n\ny = np.array([37, 50, 34, 36, 43, 28, 37, 20, 34, 30, 38, 47])",
      "metadata": {
        "trusted": true
      },
      "outputs": [],
      "execution_count": 119
    },
    {
      "id": "a1084f0b",
      "cell_type": "code",
      "source": "dados = obj_dados(x, y)\ndados.normalize()\n\nx = dados.x\ny = dados.y\n",
      "metadata": {
        "trusted": true
      },
      "outputs": [],
      "execution_count": 120
    },
    {
      "id": "abc8d473-0076-4272-9a5a-a85b68129cce",
      "cell_type": "code",
      "source": "dados.mean_x",
      "metadata": {
        "trusted": true
      },
      "outputs": [
        {
          "execution_count": 121,
          "output_type": "execute_result",
          "data": {
            "text/plain": "array([1.        , 1.02516667])"
          },
          "metadata": {}
        }
      ],
      "execution_count": 121
    },
    {
      "id": "24ebaf61-81c8-4442-8c82-8b89be02c665",
      "cell_type": "code",
      "source": "dados.var_x",
      "metadata": {
        "trusted": true
      },
      "outputs": [
        {
          "execution_count": 115,
          "output_type": "execute_result",
          "data": {
            "text/plain": "array([0.        , 0.29017318])"
          },
          "metadata": {}
        }
      ],
      "execution_count": 115
    },
    {
      "id": "40d6e751-3ee0-4c65-81e3-979a1153ba2d",
      "cell_type": "code",
      "source": "dados.normalize_x_at([1, 1.087])",
      "metadata": {
        "trusted": true
      },
      "outputs": [
        {
          "execution_count": 116,
          "output_type": "execute_result",
          "data": {
            "text/plain": "array([0.        , 0.21309114])"
          },
          "metadata": {}
        }
      ],
      "execution_count": 116
    },
    {
      "id": "c59ac904-6db1-462d-b23d-75b9631f12aa",
      "cell_type": "code",
      "source": " dados.desnormalize_x_at(dados.normalize_x_at([1, 1.087]))",
      "metadata": {
        "trusted": true
      },
      "outputs": [
        {
          "execution_count": 117,
          "output_type": "execute_result",
          "data": {
            "text/plain": "array([1.   , 1.087])"
          },
          "metadata": {}
        }
      ],
      "execution_count": 117
    },
    {
      "id": "723b38ac",
      "cell_type": "code",
      "source": "def  gradient_descent(x, y, alpha=0.0045, epoch=150):\n    N = x.shape[0]\n    D = x.shape[1]\n    \n    new_w = np.array([0]*D)\n    w = np.array([0]*D) \n    mse_list = []\n    for count1 in range(epoch):\n        calcuted_y = np.dot(x, w.T)\n        error = np.array(y - calcuted_y)\n\n        w = w + (alpha/N)*(np.dot(error, x))\n        \n        mse_list.append((error**2).sum())\n        \n        \n    return return_training(w, mse_list)\n    ",
      "metadata": {
        "trusted": true
      },
      "outputs": [],
      "execution_count": 53
    },
    {
      "id": "549442eb",
      "cell_type": "code",
      "source": "def gradient_descent_stocastic(x, y, alpha=0.5, epoch=2000):\n    N = x.shape[0]\n    D = x.shape[1]\n    \n    new_w = np.array([0]*D)\n    w = np.array([0]*D) \n    mse_list = []\n    count = 0\n    for count1 in range(epoch):\n        calcuted_y = np.dot(x, w.T)\n        error = np.array(y - calcuted_y)\n\n        w = w + (alpha/N)*(np.dot(error[count], x[count]))\n        \n        mse_list.append((error**2).sum())\n        \n        count += 1\n        \n        if count >= N:\n            count = 0\n        \n    return return_training(w, mse_list)",
      "metadata": {
        "trusted": true
      },
      "outputs": [],
      "execution_count": 54
    },
    {
      "id": "35bfc9ac",
      "cell_type": "code",
      "source": "def metodo_analitico(x, y):\n    w = np.dot(np.dot(np.linalg.inv(np.dot(x.T, x)), x.T), y)\n    error = [y[count] - np.dot(x[count], w.T) for count in range(x.shape[0])]\n    error = np.array(error)\n    error = [(error**2).sum(), (error**2).sum()]\n    return return_training(w, error)",
      "metadata": {
        "trusted": true
      },
      "outputs": [],
      "execution_count": 55
    },
    {
      "id": "63092ead",
      "cell_type": "code",
      "source": "obj = gradient_descent(x, y, alpha=0.045, epoch=400)\nw = obj.w",
      "metadata": {
        "trusted": true
      },
      "outputs": [],
      "execution_count": 56
    },
    {
      "id": "b8bcb681",
      "cell_type": "code",
      "source": "rg = linear_modeal(w, dados)\nrg.at([1, 1.087], normalize = True)\n",
      "metadata": {
        "trusted": true
      },
      "outputs": [
        {
          "execution_count": 57,
          "output_type": "execute_result",
          "data": {
            "text/plain": "290.77476297640806"
          },
          "metadata": {}
        }
      ],
      "execution_count": 57
    },
    {
      "id": "7ec5454f",
      "cell_type": "code",
      "source": "\nx_values = [dados.desnormalize_x_at(x_element) for x_element in x]\ny_values = [rg.at(element, normalize=True) for element in x]\n\ny_real = [dados.desnormalize_y_at(element) for element in y]\n\nplt.scatter(x_values, y_real, color='blue', label='Pontos')\n\nplt.plot(x_values, y_values, color='red', label='Reta AB')",
      "metadata": {
        "trusted": true
      },
      "outputs": [
        {
          "output_type": "display_data",
          "data": {
            "text/plain": "<Figure size 640x480 with 1 Axes>",
            "image/png": "[encoded data removed]"
          },
          "metadata": {}
        },
        {
          "ename": "<class 'ValueError'>",
          "evalue": "x and y must be the same size",
          "traceback": [
            "\u001b[0;31m---------------------------------------------------------------------------\u001b[0m",
            "\u001b[0;31mValueError\u001b[0m                                Traceback (most recent call last)",
            "Cell \u001b[0;32mIn[128], line 6\u001b[0m\n\u001b[1;32m      2\u001b[0m y_values \u001b[38;5;241m=\u001b[39m [rg\u001b[38;5;241m.\u001b[39mat(element, normalize\u001b[38;5;241m=\u001b[39m\u001b[38;5;28;01mTrue\u001b[39;00m) \u001b[38;5;28;01mfor\u001b[39;00m element \u001b[38;5;129;01min\u001b[39;00m x]\n\u001b[1;32m      4\u001b[0m y_real \u001b[38;5;241m=\u001b[39m [dados\u001b[38;5;241m.\u001b[39mdesnormalize_y_at(element) \u001b[38;5;28;01mfor\u001b[39;00m element \u001b[38;5;129;01min\u001b[39;00m y]\n\u001b[0;32m----> 6\u001b[0m \u001b[43mplt\u001b[49m\u001b[38;5;241;43m.\u001b[39;49m\u001b[43mscatter\u001b[49m\u001b[43m(\u001b[49m\u001b[43mx_values\u001b[49m\u001b[43m,\u001b[49m\u001b[43m \u001b[49m\u001b[43my_real\u001b[49m\u001b[43m,\u001b[49m\u001b[43m \u001b[49m\u001b[43mcolor\u001b[49m\u001b[38;5;241;43m=\u001b[39;49m\u001b[38;5;124;43m'\u001b[39;49m\u001b[38;5;124;43mblue\u001b[39;49m\u001b[38;5;124;43m'\u001b[39;49m\u001b[43m,\u001b[49m\u001b[43m \u001b[49m\u001b[43mlabel\u001b[49m\u001b[38;5;241;43m=\u001b[39;49m\u001b[38;5;124;43m'\u001b[39;49m\u001b[38;5;124;43mPontos\u001b[39;49m\u001b[38;5;124;43m'\u001b[39;49m\u001b[43m)\u001b[49m\n\u001b[1;32m      8\u001b[0m plt\u001b[38;5;241m.\u001b[39mplot(x_values, y_values, color\u001b[38;5;241m=\u001b[39m\u001b[38;5;124m'\u001b[39m\u001b[38;5;124mred\u001b[39m\u001b[38;5;124m'\u001b[39m, label\u001b[38;5;241m=\u001b[39m\u001b[38;5;124m'\u001b[39m\u001b[38;5;124mReta AB\u001b[39m\u001b[38;5;124m'\u001b[39m)\n",
            "File \u001b[0;32m/lib/python3.11/site-packages/matplotlib/pyplot.py:2819\u001b[0m, in \u001b[0;36mscatter\u001b[0;34m(x, y, s, c, marker, cmap, norm, vmin, vmax, alpha, linewidths, edgecolors, plotnonfinite, data, **kwargs)\u001b[0m\n\u001b[1;32m   2814\u001b[0m \u001b[38;5;129m@_copy_docstring_and_deprecators\u001b[39m(Axes\u001b[38;5;241m.\u001b[39mscatter)\n\u001b[1;32m   2815\u001b[0m \u001b[38;5;28;01mdef\u001b[39;00m \u001b[38;5;21mscatter\u001b[39m(\n\u001b[1;32m   2816\u001b[0m         x, y, s\u001b[38;5;241m=\u001b[39m\u001b[38;5;28;01mNone\u001b[39;00m, c\u001b[38;5;241m=\u001b[39m\u001b[38;5;28;01mNone\u001b[39;00m, marker\u001b[38;5;241m=\u001b[39m\u001b[38;5;28;01mNone\u001b[39;00m, cmap\u001b[38;5;241m=\u001b[39m\u001b[38;5;28;01mNone\u001b[39;00m, norm\u001b[38;5;241m=\u001b[39m\u001b[38;5;28;01mNone\u001b[39;00m,\n\u001b[1;32m   2817\u001b[0m         vmin\u001b[38;5;241m=\u001b[39m\u001b[38;5;28;01mNone\u001b[39;00m, vmax\u001b[38;5;241m=\u001b[39m\u001b[38;5;28;01mNone\u001b[39;00m, alpha\u001b[38;5;241m=\u001b[39m\u001b[38;5;28;01mNone\u001b[39;00m, linewidths\u001b[38;5;241m=\u001b[39m\u001b[38;5;28;01mNone\u001b[39;00m, \u001b[38;5;241m*\u001b[39m,\n\u001b[1;32m   2818\u001b[0m         edgecolors\u001b[38;5;241m=\u001b[39m\u001b[38;5;28;01mNone\u001b[39;00m, plotnonfinite\u001b[38;5;241m=\u001b[39m\u001b[38;5;28;01mFalse\u001b[39;00m, data\u001b[38;5;241m=\u001b[39m\u001b[38;5;28;01mNone\u001b[39;00m, \u001b[38;5;241m*\u001b[39m\u001b[38;5;241m*\u001b[39mkwargs):\n\u001b[0;32m-> 2819\u001b[0m     __ret \u001b[38;5;241m=\u001b[39m \u001b[43mgca\u001b[49m\u001b[43m(\u001b[49m\u001b[43m)\u001b[49m\u001b[38;5;241;43m.\u001b[39;49m\u001b[43mscatter\u001b[49m\u001b[43m(\u001b[49m\n\u001b[1;32m   2820\u001b[0m \u001b[43m        \u001b[49m\u001b[43mx\u001b[49m\u001b[43m,\u001b[49m\u001b[43m \u001b[49m\u001b[43my\u001b[49m\u001b[43m,\u001b[49m\u001b[43m \u001b[49m\u001b[43ms\u001b[49m\u001b[38;5;241;43m=\u001b[39;49m\u001b[43ms\u001b[49m\u001b[43m,\u001b[49m\u001b[43m \u001b[49m\u001b[43mc\u001b[49m\u001b[38;5;241;43m=\u001b[39;49m\u001b[43mc\u001b[49m\u001b[43m,\u001b[49m\u001b[43m \u001b[49m\u001b[43mmarker\u001b[49m\u001b[38;5;241;43m=\u001b[39;49m\u001b[43mmarker\u001b[49m\u001b[43m,\u001b[49m\u001b[43m \u001b[49m\u001b[43mcmap\u001b[49m\u001b[38;5;241;43m=\u001b[39;49m\u001b[43mcmap\u001b[49m\u001b[43m,\u001b[49m\u001b[43m \u001b[49m\u001b[43mnorm\u001b[49m\u001b[38;5;241;43m=\u001b[39;49m\u001b[43mnorm\u001b[49m\u001b[43m,\u001b[49m\n\u001b[1;32m   2821\u001b[0m \u001b[43m        \u001b[49m\u001b[43mvmin\u001b[49m\u001b[38;5;241;43m=\u001b[39;49m\u001b[43mvmin\u001b[49m\u001b[43m,\u001b[49m\u001b[43m \u001b[49m\u001b[43mvmax\u001b[49m\u001b[38;5;241;43m=\u001b[39;49m\u001b[43mvmax\u001b[49m\u001b[43m,\u001b[49m\u001b[43m \u001b[49m\u001b[43malpha\u001b[49m\u001b[38;5;241;43m=\u001b[39;49m\u001b[43malpha\u001b[49m\u001b[43m,\u001b[49m\u001b[43m \u001b[49m\u001b[43mlinewidths\u001b[49m\u001b[38;5;241;43m=\u001b[39;49m\u001b[43mlinewidths\u001b[49m\u001b[43m,\u001b[49m\n\u001b[1;32m   2822\u001b[0m \u001b[43m        \u001b[49m\u001b[43medgecolors\u001b[49m\u001b[38;5;241;43m=\u001b[39;49m\u001b[43medgecolors\u001b[49m\u001b[43m,\u001b[49m\u001b[43m \u001b[49m\u001b[43mplotnonfinite\u001b[49m\u001b[38;5;241;43m=\u001b[39;49m\u001b[43mplotnonfinite\u001b[49m\u001b[43m,\u001b[49m\n\u001b[1;32m   2823\u001b[0m \u001b[43m        \u001b[49m\u001b[38;5;241;43m*\u001b[39;49m\u001b[38;5;241;43m*\u001b[39;49m\u001b[43m(\u001b[49m\u001b[43m{\u001b[49m\u001b[38;5;124;43m\"\u001b[39;49m\u001b[38;5;124;43mdata\u001b[39;49m\u001b[38;5;124;43m\"\u001b[39;49m\u001b[43m:\u001b[49m\u001b[43m \u001b[49m\u001b[43mdata\u001b[49m\u001b[43m}\u001b[49m\u001b[43m \u001b[49m\u001b[38;5;28;43;01mif\u001b[39;49;00m\u001b[43m \u001b[49m\u001b[43mdata\u001b[49m\u001b[43m \u001b[49m\u001b[38;5;129;43;01mis\u001b[39;49;00m\u001b[43m \u001b[49m\u001b[38;5;129;43;01mnot\u001b[39;49;00m\u001b[43m \u001b[49m\u001b[38;5;28;43;01mNone\u001b[39;49;00m\u001b[43m \u001b[49m\u001b[38;5;28;43;01melse\u001b[39;49;00m\u001b[43m \u001b[49m\u001b[43m{\u001b[49m\u001b[43m}\u001b[49m\u001b[43m)\u001b[49m\u001b[43m,\u001b[49m\u001b[43m \u001b[49m\u001b[38;5;241;43m*\u001b[39;49m\u001b[38;5;241;43m*\u001b[39;49m\u001b[43mkwargs\u001b[49m\u001b[43m)\u001b[49m\n\u001b[1;32m   2824\u001b[0m     sci(__ret)\n\u001b[1;32m   2825\u001b[0m     \u001b[38;5;28;01mreturn\u001b[39;00m __ret\n",
            "File \u001b[0;32m/lib/python3.11/site-packages/matplotlib/__init__.py:1412\u001b[0m, in \u001b[0;36m_preprocess_data.<locals>.inner\u001b[0;34m(ax, data, *args, **kwargs)\u001b[0m\n\u001b[1;32m   1409\u001b[0m \u001b[38;5;129m@functools\u001b[39m\u001b[38;5;241m.\u001b[39mwraps(func)\n\u001b[1;32m   1410\u001b[0m \u001b[38;5;28;01mdef\u001b[39;00m \u001b[38;5;21minner\u001b[39m(ax, \u001b[38;5;241m*\u001b[39margs, data\u001b[38;5;241m=\u001b[39m\u001b[38;5;28;01mNone\u001b[39;00m, \u001b[38;5;241m*\u001b[39m\u001b[38;5;241m*\u001b[39mkwargs):\n\u001b[1;32m   1411\u001b[0m     \u001b[38;5;28;01mif\u001b[39;00m data \u001b[38;5;129;01mis\u001b[39;00m \u001b[38;5;28;01mNone\u001b[39;00m:\n\u001b[0;32m-> 1412\u001b[0m         \u001b[38;5;28;01mreturn\u001b[39;00m \u001b[43mfunc\u001b[49m\u001b[43m(\u001b[49m\u001b[43max\u001b[49m\u001b[43m,\u001b[49m\u001b[43m \u001b[49m\u001b[38;5;241;43m*\u001b[39;49m\u001b[38;5;28;43mmap\u001b[39;49m\u001b[43m(\u001b[49m\u001b[43msanitize_sequence\u001b[49m\u001b[43m,\u001b[49m\u001b[43m \u001b[49m\u001b[43margs\u001b[49m\u001b[43m)\u001b[49m\u001b[43m,\u001b[49m\u001b[43m \u001b[49m\u001b[38;5;241;43m*\u001b[39;49m\u001b[38;5;241;43m*\u001b[39;49m\u001b[43mkwargs\u001b[49m\u001b[43m)\u001b[49m\n\u001b[1;32m   1414\u001b[0m     bound \u001b[38;5;241m=\u001b[39m new_sig\u001b[38;5;241m.\u001b[39mbind(ax, \u001b[38;5;241m*\u001b[39margs, \u001b[38;5;241m*\u001b[39m\u001b[38;5;241m*\u001b[39mkwargs)\n\u001b[1;32m   1415\u001b[0m     auto_label \u001b[38;5;241m=\u001b[39m (bound\u001b[38;5;241m.\u001b[39marguments\u001b[38;5;241m.\u001b[39mget(label_namer)\n\u001b[1;32m   1416\u001b[0m                   \u001b[38;5;129;01mor\u001b[39;00m bound\u001b[38;5;241m.\u001b[39mkwargs\u001b[38;5;241m.\u001b[39mget(label_namer))\n",
            "File \u001b[0;32m/lib/python3.11/site-packages/matplotlib/axes/_axes.py:4362\u001b[0m, in \u001b[0;36mAxes.scatter\u001b[0;34m(self, x, y, s, c, marker, cmap, norm, vmin, vmax, alpha, linewidths, edgecolors, plotnonfinite, **kwargs)\u001b[0m\n\u001b[1;32m   4360\u001b[0m y \u001b[38;5;241m=\u001b[39m np\u001b[38;5;241m.\u001b[39mma\u001b[38;5;241m.\u001b[39mravel(y)\n\u001b[1;32m   4361\u001b[0m \u001b[38;5;28;01mif\u001b[39;00m x\u001b[38;5;241m.\u001b[39msize \u001b[38;5;241m!=\u001b[39m y\u001b[38;5;241m.\u001b[39msize:\n\u001b[0;32m-> 4362\u001b[0m     \u001b[38;5;28;01mraise\u001b[39;00m \u001b[38;5;167;01mValueError\u001b[39;00m(\u001b[38;5;124m\"\u001b[39m\u001b[38;5;124mx and y must be the same size\u001b[39m\u001b[38;5;124m\"\u001b[39m)\n\u001b[1;32m   4364\u001b[0m \u001b[38;5;28;01mif\u001b[39;00m s \u001b[38;5;129;01mis\u001b[39;00m \u001b[38;5;28;01mNone\u001b[39;00m:\n\u001b[1;32m   4365\u001b[0m     s \u001b[38;5;241m=\u001b[39m (\u001b[38;5;241m20\u001b[39m \u001b[38;5;28;01mif\u001b[39;00m rcParams[\u001b[38;5;124m'\u001b[39m\u001b[38;5;124m_internal.classic_mode\u001b[39m\u001b[38;5;124m'\u001b[39m] \u001b[38;5;28;01melse\u001b[39;00m\n\u001b[1;32m   4366\u001b[0m          rcParams[\u001b[38;5;124m'\u001b[39m\u001b[38;5;124mlines.markersize\u001b[39m\u001b[38;5;124m'\u001b[39m] \u001b[38;5;241m*\u001b[39m\u001b[38;5;241m*\u001b[39m \u001b[38;5;241m2.0\u001b[39m)\n",
            "\u001b[0;31mValueError\u001b[0m: x and y must be the same size"
          ],
          "output_type": "error"
        }
      ],
      "execution_count": 128
    },
    {
      "id": "b5e385e7",
      "cell_type": "code",
      "source": "plt.plot(obj.mse)",
      "metadata": {
        "trusted": true
      },
      "outputs": [
        {
          "execution_count": 127,
          "output_type": "execute_result",
          "data": {
            "text/plain": "[<matplotlib.lines.Line2D at 0x4fbb3c8>]"
          },
          "metadata": {}
        },
        {
          "output_type": "display_data",
          "data": {
            "text/plain": "<Figure size 640x480 with 1 Axes>",
            "image/png": "[encoded data removed]"
          },
          "metadata": {}
        }
      ],
      "execution_count": 127
    },
    {
      "id": "60fb5c2b-bc29-4762-979f-5a2a32f92821",
      "cell_type": "code",
      "source": "x[0]",
      "metadata": {
        "trusted": true
      },
      "outputs": [
        {
          "execution_count": 122,
          "output_type": "execute_result",
          "data": {
            "text/plain": "array([0.        , 0.21309114])"
          },
          "metadata": {}
        }
      ],
      "execution_count": 122
    },
    {
      "id": "8d806b2d-d024-49ca-b244-b85de6d4a7bc",
      "cell_type": "code",
      "source": "dados.desnormalize_x_at(x[0])",
      "metadata": {
        "trusted": true
      },
      "outputs": [
        {
          "execution_count": 123,
          "output_type": "execute_result",
          "data": {
            "text/plain": "array([1.   , 1.087])"
          },
          "metadata": {}
        }
      ],
      "execution_count": 123
    },
    {
      "id": "80b92d49-e1ff-4b86-9ea5-937614073d72",
      "cell_type": "code",
      "source": "",
      "metadata": {
        "trusted": true
      },
      "outputs": [],
      "execution_count": null
    }
  ]
}